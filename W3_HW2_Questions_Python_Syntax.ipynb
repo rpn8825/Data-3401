{
  "cells": [
    {
      "cell_type": "markdown",
      "metadata": {
        "id": "view-in-github",
        "colab_type": "text"
      },
      "source": [
        "<a href=\"https://colab.research.google.com/github/rpn8825/Data-3401/blob/main/W3_HW2_Questions_Python_Syntax.ipynb\" target=\"_parent\"><img src=\"https://colab.research.google.com/assets/colab-badge.svg\" alt=\"Open In Colab\"/></a>"
      ]
    },
    {
      "cell_type": "markdown",
      "id": "64b779d8",
      "metadata": {
        "id": "64b779d8"
      },
      "source": [
        "## **Homework 2: Basic Markdown, Python Variables, Math Operations, User Input, and PEMDAS**\n",
        "\n",
        "This homework is designed to enhance your understanding of several fundamental concepts in Python and Jupyter Notebooks, including Markdown formatting, variable assignment, basic mathematics operations, handling user input, and the order of operations (PEMDAS).\n",
        "\n",
        "**Instructions:**\n",
        "- Answer each question in the notebook, using a Markdown cell for explanations and a code cell for Python code.\n",
        "- Ensure to execute your Python code to display the answers where applicable.\n"
      ]
    },
    {
      "cell_type": "markdown",
      "id": "ec00d08e",
      "metadata": {
        "id": "ec00d08e"
      },
      "source": [
        "1. Show what Markdown is used for in Jupyter Notebooks."
      ]
    },
    {
      "cell_type": "code",
      "source": [
        "# Markdown is used for formatting text in Jupyter Notebooks (e.g. using # for headers)\n",
        "# Header Example\n",
        "\n",
        "\n",
        "\n",
        "\n",
        "\n"
      ],
      "metadata": {
        "id": "EthAekKTyeBX"
      },
      "id": "EthAekKTyeBX",
      "execution_count": 66,
      "outputs": []
    },
    {
      "cell_type": "markdown",
      "id": "9f44594b",
      "metadata": {
        "id": "9f44594b"
      },
      "source": [
        "2. Show how to format text to be bold in Markdown? Provide an example."
      ]
    },
    {
      "cell_type": "code",
      "source": [
        "# To format text to be bold in Markdown, use two asterisks before and after the text you want bold:\n",
        "# **Bold Text**"
      ],
      "metadata": {
        "id": "dyEdcesiyngl"
      },
      "id": "dyEdcesiyngl",
      "execution_count": 67,
      "outputs": []
    },
    {
      "cell_type": "markdown",
      "source": [
        "**Bold Text**"
      ],
      "metadata": {
        "id": "sQHBwVU36Szu"
      },
      "id": "sQHBwVU36Szu"
    },
    {
      "cell_type": "markdown",
      "id": "d3729096",
      "metadata": {
        "id": "d3729096"
      },
      "source": [
        "3. Create a Python variable named `a` and assign it the value 5."
      ]
    },
    {
      "cell_type": "code",
      "execution_count": 68,
      "id": "59ee5aa4",
      "metadata": {
        "id": "59ee5aa4"
      },
      "outputs": [],
      "source": [
        "# You can assign a variable to a numerical value by writing the variable along with the = operator and the assigned value\n",
        "\n",
        "a=5\n",
        "\n",
        "\n",
        "\n",
        "\n"
      ]
    },
    {
      "cell_type": "markdown",
      "id": "4ea5fd99",
      "metadata": {
        "id": "4ea5fd99"
      },
      "source": [
        "4. Perform an addition operation with any two numbers and display the result."
      ]
    },
    {
      "cell_type": "code",
      "execution_count": 89,
      "id": "8b419b80",
      "metadata": {
        "id": "8b419b80",
        "colab": {
          "base_uri": "https://localhost:8080/"
        },
        "outputId": "6f3e9e21-1b7d-47a2-8eec-bc41c386347a"
      },
      "outputs": [
        {
          "output_type": "execute_result",
          "data": {
            "text/plain": [
              "15"
            ]
          },
          "metadata": {},
          "execution_count": 89
        }
      ],
      "source": [
        "# You can perform an addition operation of any two numbers with the + operator in between\n",
        "# If you want to assign the sum to a variable, you must use print() function with the variable name of the sum inside the paranthesis to return value\n",
        "\n",
        "5+10\n",
        "\n"
      ]
    },
    {
      "cell_type": "markdown",
      "id": "809fea36",
      "metadata": {
        "id": "809fea36"
      },
      "source": [
        "5. Divide 15 by 3 and show the result."
      ]
    },
    {
      "cell_type": "code",
      "execution_count": 71,
      "id": "be300337",
      "metadata": {
        "id": "be300337",
        "colab": {
          "base_uri": "https://localhost:8080/"
        },
        "outputId": "660e3d77-3b93-4dcf-ab69-b3d87ec1c306"
      },
      "outputs": [
        {
          "output_type": "execute_result",
          "data": {
            "text/plain": [
              "5.0"
            ]
          },
          "metadata": {},
          "execution_count": 71
        }
      ],
      "source": [
        "# Using the / operator in between 15 and 3 will give you the result of the division operation as a float\n",
        "\n",
        "15/3\n",
        "\n",
        "\n",
        "\n",
        "\n",
        "\n"
      ]
    },
    {
      "cell_type": "markdown",
      "id": "7b0f891c",
      "metadata": {
        "id": "7b0f891c"
      },
      "source": [
        "6. Use the `input()` function to ask the user for their name and then greet them."
      ]
    },
    {
      "cell_type": "code",
      "execution_count": 72,
      "id": "ab2198cc",
      "metadata": {
        "id": "ab2198cc",
        "colab": {
          "base_uri": "https://localhost:8080/"
        },
        "outputId": "8c17eaa9-2243-48e7-9c3c-ac64d1e4295c"
      },
      "outputs": [
        {
          "output_type": "stream",
          "name": "stdout",
          "text": [
            "Enter your name: Ryan Nguyen\n",
            "Hi Ryan Nguyen , how are you doing?\n"
          ]
        }
      ],
      "source": [
        "# Assign a variable to be equal to the input() function to ask user for input along with the user input request within quotations inside ()\n",
        "# Afterwards, you can use print() function to return the input along with whatever message you want to show in quotations inside paranthesis\n",
        "\n",
        "name=input(\"Enter your name: \")\n",
        "print(\"Hi\", name, \", how are you doing?\")\n",
        "\n",
        "\n",
        "\n",
        "\n",
        "\n"
      ]
    },
    {
      "cell_type": "markdown",
      "id": "181413d2",
      "metadata": {
        "id": "181413d2"
      },
      "source": [
        "7. Calculate the square of 7 and display the result."
      ]
    },
    {
      "cell_type": "code",
      "execution_count": 73,
      "id": "18b86315",
      "metadata": {
        "id": "18b86315",
        "colab": {
          "base_uri": "https://localhost:8080/"
        },
        "outputId": "ce200f38-f759-4f59-bb43-30658bd01f00"
      },
      "outputs": [
        {
          "output_type": "execute_result",
          "data": {
            "text/plain": [
              "49"
            ]
          },
          "metadata": {},
          "execution_count": 73
        }
      ],
      "source": [
        "# To perform an exponential operation such as the square of 7, you use the ** operator in between 7 and 2\n",
        "\n",
        "7**2\n",
        "\n",
        "\n",
        "\n",
        "\n",
        "\n",
        "\n",
        "\n"
      ]
    },
    {
      "cell_type": "markdown",
      "id": "7a0f4c79",
      "metadata": {
        "id": "7a0f4c79"
      },
      "source": [
        "8. Ask the user for a number, multiply it by 2, and display the result."
      ]
    },
    {
      "cell_type": "code",
      "execution_count": 74,
      "id": "206d8834",
      "metadata": {
        "id": "206d8834",
        "colab": {
          "base_uri": "https://localhost:8080/"
        },
        "outputId": "e1645b4d-1bc2-4187-c670-eaad3432267e"
      },
      "outputs": [
        {
          "output_type": "stream",
          "name": "stdout",
          "text": [
            "Enter a number: 5\n",
            "10.0\n"
          ]
        }
      ],
      "source": [
        "# To ask the user for a number, you must assign a variable equal to int() or float() functions with nested input() function within the paranthesis to ask for user input\n",
        "# Then, you can assign a new variable equal to the multiplication of the user input variable and 2 and return the value using print() function\n",
        "\n",
        "a=float(input(\"Enter a number: \"))\n",
        "b=a*2\n",
        "print(b)\n",
        "\n"
      ]
    },
    {
      "cell_type": "markdown",
      "id": "ea0dd3a5",
      "metadata": {
        "id": "ea0dd3a5"
      },
      "source": [
        "9. Write a program that converts time from hours to seconds. Ask the user to input the time in hours, and then convert that time into seconds. Remember, 1 hour equals 3600 seconds."
      ]
    },
    {
      "cell_type": "code",
      "source": [
        "# Assign a variable equal to the float() function of input() function for user input for time in hours and then assign another variable equal to user input variable with * operator and 3600 for sec per hour\n",
        "# Lastly, return the 2nd variable (time converted to sec) using print() function\n",
        "\n",
        "time_hr=float(input(\"Enter the time period in hours: \"))\n",
        "time_s=time_hr*3600\n",
        "print(\"The time is:\", time_s, \"s\")\n",
        "\n",
        "\n",
        "\n",
        "\n"
      ],
      "metadata": {
        "id": "K5F9Y3ZPzMlD",
        "colab": {
          "base_uri": "https://localhost:8080/"
        },
        "outputId": "5fe923d5-b964-4791-97a9-ba585e127fd0"
      },
      "id": "K5F9Y3ZPzMlD",
      "execution_count": 75,
      "outputs": [
        {
          "output_type": "stream",
          "name": "stdout",
          "text": [
            "Enter the time period in hours: 1\n",
            "The time is: 3600.0 s\n"
          ]
        }
      ]
    },
    {
      "cell_type": "markdown",
      "id": "33988976",
      "metadata": {
        "id": "33988976"
      },
      "source": [
        "10. Evaluate the expression `3 * (4 + 5) - 6 / 2` and display the result."
      ]
    },
    {
      "cell_type": "code",
      "execution_count": 76,
      "id": "e346f170",
      "metadata": {
        "id": "e346f170",
        "colab": {
          "base_uri": "https://localhost:8080/"
        },
        "outputId": "ff4793d0-df8e-4f28-9826-08bcea0623d0"
      },
      "outputs": [
        {
          "output_type": "stream",
          "name": "stdout",
          "text": [
            "24.0\n"
          ]
        }
      ],
      "source": [
        "# You can either assign a variable and print the variable or straight type out the mathmatical expression exactly as displayed to which the answer is returned\n",
        "\n",
        "x=3*(4+5)-6/2\n",
        "print(x)\n",
        "\n",
        "\n",
        "\n",
        "\n",
        "\n",
        "\n"
      ]
    },
    {
      "cell_type": "markdown",
      "id": "238b253e",
      "metadata": {
        "id": "238b253e"
      },
      "source": [
        "11. Assign the string 'Python' to a variable and print it."
      ]
    },
    {
      "cell_type": "code",
      "execution_count": 78,
      "id": "c390538f",
      "metadata": {
        "id": "c390538f",
        "colab": {
          "base_uri": "https://localhost:8080/"
        },
        "outputId": "81426539-c45d-4d31-b439-328995536957"
      },
      "outputs": [
        {
          "output_type": "stream",
          "name": "stdout",
          "text": [
            "Python\n"
          ]
        },
        {
          "output_type": "execute_result",
          "data": {
            "text/plain": [
              "str"
            ]
          },
          "metadata": {},
          "execution_count": 78
        }
      ],
      "source": [
        "# You can assign a string variable the same way as any other variable except the value is in quotations\n",
        "# Then, using the print() function, return the value of the string\n",
        "# In addition, you can use the type() function to check that the value type of the variable is a string\n",
        "\n",
        "x=\"Python\"\n",
        "print(x)\n",
        "type(x)\n",
        "\n",
        "\n",
        "\n",
        "\n",
        "\n"
      ]
    },
    {
      "cell_type": "markdown",
      "id": "7c5a89d6",
      "metadata": {
        "id": "7c5a89d6"
      },
      "source": [
        "12. Calculate the remainder when 22 is divided by 5."
      ]
    },
    {
      "cell_type": "code",
      "execution_count": 79,
      "id": "db0b5ac5",
      "metadata": {
        "id": "db0b5ac5",
        "colab": {
          "base_uri": "https://localhost:8080/"
        },
        "outputId": "9eba62a9-a47c-4b28-a52a-98e20be96d9b"
      },
      "outputs": [
        {
          "output_type": "execute_result",
          "data": {
            "text/plain": [
              "2"
            ]
          },
          "metadata": {},
          "execution_count": 79
        }
      ],
      "source": [
        "# Either assigning a variable or straight writing the expression, you can divide two numbers using the % operator in between\n",
        "# The example below returns the remainder of the division operation of 22 and 5\n",
        "\n",
        "22%5\n",
        "\n",
        "\n",
        "\n",
        "\n",
        "\n",
        "\n"
      ]
    },
    {
      "cell_type": "markdown",
      "id": "6dbc6d95",
      "metadata": {
        "id": "6dbc6d95"
      },
      "source": [
        "\n",
        "13. Ask the user for two numbers, add them together, and display the sum."
      ]
    },
    {
      "cell_type": "code",
      "execution_count": 80,
      "id": "8fa878a0",
      "metadata": {
        "id": "8fa878a0",
        "colab": {
          "base_uri": "https://localhost:8080/"
        },
        "outputId": "39460f50-0cba-45ff-f7de-aa29f0987997"
      },
      "outputs": [
        {
          "output_type": "stream",
          "name": "stdout",
          "text": [
            "Enter the first number:5\n",
            "Enter the second number:5\n",
            "10.0\n"
          ]
        }
      ],
      "source": [
        "# Assign variables to floats or integers, float() and int() functions, respectively, of input() function asking for user input for the two numbers\n",
        "# Assign another variable equal to the sum of the two variables using + operator and then print() function to return the sum value\n",
        "\n",
        "x=float(input(\"Enter the first number:\"))\n",
        "y=float(input(\"Enter the second number:\"))\n",
        "sum=x+y\n",
        "print(sum)\n",
        "\n",
        "\n",
        "\n",
        "\n",
        "\n",
        "\n",
        "\n"
      ]
    },
    {
      "cell_type": "markdown",
      "source": [
        "14. Write a Python code snippet that takes user input and prints the type of the input variable."
      ],
      "metadata": {
        "id": "Xfr-7PXNAsTJ"
      },
      "id": "Xfr-7PXNAsTJ"
    },
    {
      "cell_type": "code",
      "source": [
        "# Assign a variable equal to input() function with user input request in quotations inside paranthesis\n",
        "# Using an if statement, determine if x is an integer with isnumeric() function, which checks if variable only contains numbers (0-9)\n",
        "# If it is an integer, use int() function to take integer of user input variable and type() function within print() function to return value type\n",
        "# Using else statement for when input is not an integer, determine if float or string\n",
        "# Using a nested condition within else statement: use x.replace() function to replace decimal point within user input (x is user input variable) and use isnumeric() function to check if it's a float then take float of user input and print() the type()\n",
        "# Using the last else, print the type of x, which is by default a string as the conditions for integer and float were not met\n",
        "\n",
        "x=input(\"Enter user input: \")\n",
        "\n",
        "if x.isnumeric():\n",
        "  y=int(x)\n",
        "  print(type(y))\n",
        "else:\n",
        "  if x.replace(\".\", \"\").isnumeric():\n",
        "    y=float(x)\n",
        "    print(type(y))\n",
        "  else:\n",
        "    print(type(x))\n",
        "\n",
        "\n",
        "\n"
      ],
      "metadata": {
        "id": "rM_ZHEpoAsdh",
        "colab": {
          "base_uri": "https://localhost:8080/"
        },
        "outputId": "ab828349-b68f-4f1a-812c-ea05c545a9f0"
      },
      "id": "rM_ZHEpoAsdh",
      "execution_count": 81,
      "outputs": [
        {
          "output_type": "stream",
          "name": "stdout",
          "text": [
            "Enter user input: 5.5\n",
            "<class 'float'>\n"
          ]
        }
      ]
    },
    {
      "cell_type": "markdown",
      "id": "a5d705bf",
      "metadata": {
        "id": "a5d705bf"
      },
      "source": [
        "15. Calculate the product of 8 and 12, then subtract 4 and display the result."
      ]
    },
    {
      "cell_type": "code",
      "execution_count": 82,
      "id": "18b337a3",
      "metadata": {
        "id": "18b337a3",
        "colab": {
          "base_uri": "https://localhost:8080/"
        },
        "outputId": "7c05b994-68ea-44bb-e1f9-c55e5fdc251a"
      },
      "outputs": [
        {
          "output_type": "execute_result",
          "data": {
            "text/plain": [
              "92"
            ]
          },
          "metadata": {},
          "execution_count": 82
        }
      ],
      "source": [
        "# Either assign a variable equal to expression or straight write the expression using * as the multiplication operator and - as the subtraction operator to calculate expression\n",
        "# Per PEMDAS, the expression takes the product of 8 and 12 and subtracts 4 from it\n",
        "\n",
        "8*12-4\n",
        "\n",
        "\n",
        "\n",
        "\n",
        "\n",
        "\n",
        "\n"
      ]
    },
    {
      "cell_type": "markdown",
      "id": "672bab76",
      "metadata": {
        "id": "672bab76"
      },
      "source": [
        "16. Explain the difference between `==` and `=` in Python."
      ]
    },
    {
      "cell_type": "code",
      "source": [
        "# The == operator checks equality of statement and returns TRUE or FALSE\n",
        "# The = operator makes a variable equal to some value or function\n",
        "# Examples of each are below to show distinction\n",
        "\n",
        "x=1\n",
        "print(x)\n",
        "\n",
        "x==x\n",
        "\n",
        "\n",
        "\n",
        "\n",
        "\n"
      ],
      "metadata": {
        "id": "fOf-_TJuyqN9",
        "colab": {
          "base_uri": "https://localhost:8080/"
        },
        "outputId": "ddc4f9cd-2b00-4406-9663-05e32e53ac64"
      },
      "id": "fOf-_TJuyqN9",
      "execution_count": 83,
      "outputs": [
        {
          "output_type": "stream",
          "name": "stdout",
          "text": [
            "1\n"
          ]
        },
        {
          "output_type": "execute_result",
          "data": {
            "text/plain": [
              "True"
            ]
          },
          "metadata": {},
          "execution_count": 83
        }
      ]
    },
    {
      "cell_type": "markdown",
      "id": "68b3a3ff",
      "metadata": {
        "id": "68b3a3ff"
      },
      "source": [
        "17. Use Python to find the floor division of 100 by 11."
      ]
    },
    {
      "cell_type": "code",
      "execution_count": 84,
      "id": "ae879bf3",
      "metadata": {
        "id": "ae879bf3",
        "colab": {
          "base_uri": "https://localhost:8080/"
        },
        "outputId": "90e8d3b7-1d3c-4553-b107-a0f03296bc3a"
      },
      "outputs": [
        {
          "output_type": "stream",
          "name": "stdout",
          "text": [
            "9\n"
          ]
        }
      ],
      "source": [
        "# Either assign a variable equal to expression or straight writing the expression: take value being divided along with // operator and value being divided by to find floor division\n",
        "# Floor division, or integer division, returns the integer value of result of divison operation\n",
        "\n",
        "div_floor=100//11\n",
        "print(div_floor)\n",
        "\n",
        "\n",
        "\n",
        "\n",
        "\n",
        "\n"
      ]
    },
    {
      "cell_type": "markdown",
      "id": "ffd04019",
      "metadata": {
        "id": "ffd04019"
      },
      "source": [
        "18. Ask the user for a number, then calculate the square of that number."
      ]
    },
    {
      "cell_type": "code",
      "execution_count": 85,
      "id": "c616706b",
      "metadata": {
        "id": "c616706b",
        "colab": {
          "base_uri": "https://localhost:8080/"
        },
        "outputId": "0a36a6dc-13b8-479f-8e88-19c3c9510619"
      },
      "outputs": [
        {
          "output_type": "stream",
          "name": "stdout",
          "text": [
            "Enter a number: 5\n",
            "25.0\n"
          ]
        }
      ],
      "source": [
        "# Assign a variable equal to the float() or int() function of the input() function for requesting user input\n",
        "# Assign another variable equal to the user input variable along with ** operator and 2 to calculate the square of that number and use print() function to return result\n",
        "\n",
        "x=float(input(\"Enter a number: \"))\n",
        "x_squared=x**2\n",
        "print(x_squared)\n",
        "\n",
        "\n",
        "\n",
        "\n",
        "\n",
        "\n",
        "\n",
        "\n"
      ]
    },
    {
      "cell_type": "markdown",
      "id": "b1d61384",
      "metadata": {
        "id": "b1d61384"
      },
      "source": [
        "19. What does the `%` operator do in Python? Provide an example."
      ]
    },
    {
      "cell_type": "code",
      "execution_count": 86,
      "id": "c4d33464",
      "metadata": {
        "id": "c4d33464",
        "colab": {
          "base_uri": "https://localhost:8080/"
        },
        "outputId": "1521c9ff-3f9e-48fc-a10d-0969ed80a7bf"
      },
      "outputs": [
        {
          "output_type": "execute_result",
          "data": {
            "text/plain": [
              "1"
            ]
          },
          "metadata": {},
          "execution_count": 86
        }
      ],
      "source": [
        "# The % operator returns the remainder of a division operation (example below)\n",
        "\n",
        "5%2\n",
        "\n",
        "\n",
        "\n",
        "\n",
        "\n",
        "\n",
        "\n"
      ]
    },
    {
      "cell_type": "markdown",
      "id": "ff3ed06e",
      "metadata": {
        "id": "ff3ed06e"
      },
      "source": [
        "20. Using variables, demonstrate how to calculate and print the area of a rectangle (length * width)."
      ]
    },
    {
      "cell_type": "code",
      "execution_count": 88,
      "id": "692bbc9c",
      "metadata": {
        "id": "692bbc9c",
        "colab": {
          "base_uri": "https://localhost:8080/"
        },
        "outputId": "da4ce284-0f71-4605-8fe4-5f9bb9a8bf92"
      },
      "outputs": [
        {
          "output_type": "stream",
          "name": "stdout",
          "text": [
            "10\n"
          ]
        }
      ],
      "source": [
        "# Assign two variables equal to the length and width, respectively\n",
        "# Then, assign a new variable for area, which is equal to the product of length and width using * operator\n",
        "# Lastly, use the print() function of new variable to return the area\n",
        "\n",
        "length=5\n",
        "width=2\n",
        "area=length*width\n",
        "print(area)\n",
        "\n",
        "\n",
        "\n",
        "\n",
        "\n"
      ]
    }
  ],
  "metadata": {
    "colab": {
      "provenance": [],
      "include_colab_link": true
    },
    "language_info": {
      "name": "python"
    },
    "kernelspec": {
      "name": "python3",
      "display_name": "Python 3"
    }
  },
  "nbformat": 4,
  "nbformat_minor": 5
}